{
 "cells": [
  {
   "cell_type": "code",
   "execution_count": 383,
   "id": "c26342f3",
   "metadata": {},
   "outputs": [],
   "source": [
    "from sklearn import datasets\n",
    "import pandas as pd\n",
    "import numpy as np\n",
    "import matplotlib.pyplot as plt\n",
    "import seaborn as sns\n",
    "from geopy.geocoders import Nominatim\n",
    "import threading\n",
    "import time\n",
    "import concurrent.futures\n",
    "%matplotlib inline"
   ]
  },
  {
   "cell_type": "markdown",
   "id": "24f6c59b",
   "metadata": {},
   "source": [
    "# Predict Median House Val for California Housing Dataset"
   ]
  },
  {
   "cell_type": "markdown",
   "id": "21bc1eb5",
   "metadata": {},
   "source": [
    "## Get Dataset"
   ]
  },
  {
   "cell_type": "code",
   "execution_count": 384,
   "id": "2a154b09",
   "metadata": {},
   "outputs": [
    {
     "data": {
      "text/plain": [
       "dict_keys(['data', 'target', 'frame', 'target_names', 'feature_names', 'DESCR'])"
      ]
     },
     "execution_count": 384,
     "metadata": {},
     "output_type": "execute_result"
    }
   ],
   "source": [
    "cal_housing = datasets.fetch_california_housing(as_frame=True)\n",
    "cal_housing.keys()"
   ]
  },
  {
   "cell_type": "markdown",
   "id": "de1b0bca",
   "metadata": {},
   "source": [
    "## Dataset Description"
   ]
  },
  {
   "cell_type": "code",
   "execution_count": 385,
   "id": "4a999225",
   "metadata": {},
   "outputs": [
    {
     "name": "stdout",
     "output_type": "stream",
     "text": [
      ".. _california_housing_dataset:\n",
      "\n",
      "California Housing dataset\n",
      "--------------------------\n",
      "\n",
      "**Data Set Characteristics:**\n",
      "\n",
      "    :Number of Instances: 20640\n",
      "\n",
      "    :Number of Attributes: 8 numeric, predictive attributes and the target\n",
      "\n",
      "    :Attribute Information:\n",
      "        - MedInc        median income in block group\n",
      "        - HouseAge      median house age in block group\n",
      "        - AveRooms      average number of rooms per household\n",
      "        - AveBedrms     average number of bedrooms per household\n",
      "        - Population    block group population\n",
      "        - AveOccup      average number of household members\n",
      "        - Latitude      block group latitude\n",
      "        - Longitude     block group longitude\n",
      "\n",
      "    :Missing Attribute Values: None\n",
      "\n",
      "This dataset was obtained from the StatLib repository.\n",
      "https://www.dcc.fc.up.pt/~ltorgo/Regression/cal_housing.html\n",
      "\n",
      "The target variable is the median house value for California districts,\n",
      "expressed in hundreds of thousands of dollars ($100,000).\n",
      "\n",
      "This dataset was derived from the 1990 U.S. census, using one row per census\n",
      "block group. A block group is the smallest geographical unit for which the U.S.\n",
      "Census Bureau publishes sample data (a block group typically has a population\n",
      "of 600 to 3,000 people).\n",
      "\n",
      "An household is a group of people residing within a home. Since the average\n",
      "number of rooms and bedrooms in this dataset are provided per household, these\n",
      "columns may take surpinsingly large values for block groups with few households\n",
      "and many empty houses, such as vacation resorts.\n",
      "\n",
      "It can be downloaded/loaded using the\n",
      ":func:`sklearn.datasets.fetch_california_housing` function.\n",
      "\n",
      ".. topic:: References\n",
      "\n",
      "    - Pace, R. Kelley and Ronald Barry, Sparse Spatial Autoregressions,\n",
      "      Statistics and Probability Letters, 33 (1997) 291-297\n",
      "\n"
     ]
    }
   ],
   "source": [
    "print(cal_housing.DESCR)"
   ]
  },
  {
   "cell_type": "markdown",
   "id": "7af71795",
   "metadata": {},
   "source": [
    "## Make a copy of the DataFrame"
   ]
  },
  {
   "cell_type": "code",
   "execution_count": 386,
   "id": "0bc10ccb",
   "metadata": {},
   "outputs": [
    {
     "data": {
      "text/html": [
       "<div>\n",
       "<style scoped>\n",
       "    .dataframe tbody tr th:only-of-type {\n",
       "        vertical-align: middle;\n",
       "    }\n",
       "\n",
       "    .dataframe tbody tr th {\n",
       "        vertical-align: top;\n",
       "    }\n",
       "\n",
       "    .dataframe thead th {\n",
       "        text-align: right;\n",
       "    }\n",
       "</style>\n",
       "<table border=\"1\" class=\"dataframe\">\n",
       "  <thead>\n",
       "    <tr style=\"text-align: right;\">\n",
       "      <th></th>\n",
       "      <th>MedInc</th>\n",
       "      <th>HouseAge</th>\n",
       "      <th>AveRooms</th>\n",
       "      <th>AveBedrms</th>\n",
       "      <th>Population</th>\n",
       "      <th>AveOccup</th>\n",
       "      <th>Latitude</th>\n",
       "      <th>Longitude</th>\n",
       "      <th>MedHouseVal</th>\n",
       "    </tr>\n",
       "  </thead>\n",
       "  <tbody>\n",
       "    <tr>\n",
       "      <th>0</th>\n",
       "      <td>8.3252</td>\n",
       "      <td>41.0</td>\n",
       "      <td>6.984127</td>\n",
       "      <td>1.023810</td>\n",
       "      <td>322.0</td>\n",
       "      <td>2.555556</td>\n",
       "      <td>37.88</td>\n",
       "      <td>-122.23</td>\n",
       "      <td>4.526</td>\n",
       "    </tr>\n",
       "    <tr>\n",
       "      <th>1</th>\n",
       "      <td>8.3014</td>\n",
       "      <td>21.0</td>\n",
       "      <td>6.238137</td>\n",
       "      <td>0.971880</td>\n",
       "      <td>2401.0</td>\n",
       "      <td>2.109842</td>\n",
       "      <td>37.86</td>\n",
       "      <td>-122.22</td>\n",
       "      <td>3.585</td>\n",
       "    </tr>\n",
       "    <tr>\n",
       "      <th>2</th>\n",
       "      <td>7.2574</td>\n",
       "      <td>52.0</td>\n",
       "      <td>8.288136</td>\n",
       "      <td>1.073446</td>\n",
       "      <td>496.0</td>\n",
       "      <td>2.802260</td>\n",
       "      <td>37.85</td>\n",
       "      <td>-122.24</td>\n",
       "      <td>3.521</td>\n",
       "    </tr>\n",
       "    <tr>\n",
       "      <th>3</th>\n",
       "      <td>5.6431</td>\n",
       "      <td>52.0</td>\n",
       "      <td>5.817352</td>\n",
       "      <td>1.073059</td>\n",
       "      <td>558.0</td>\n",
       "      <td>2.547945</td>\n",
       "      <td>37.85</td>\n",
       "      <td>-122.25</td>\n",
       "      <td>3.413</td>\n",
       "    </tr>\n",
       "    <tr>\n",
       "      <th>4</th>\n",
       "      <td>3.8462</td>\n",
       "      <td>52.0</td>\n",
       "      <td>6.281853</td>\n",
       "      <td>1.081081</td>\n",
       "      <td>565.0</td>\n",
       "      <td>2.181467</td>\n",
       "      <td>37.85</td>\n",
       "      <td>-122.25</td>\n",
       "      <td>3.422</td>\n",
       "    </tr>\n",
       "  </tbody>\n",
       "</table>\n",
       "</div>"
      ],
      "text/plain": [
       "   MedInc  HouseAge  AveRooms  AveBedrms  Population  AveOccup  Latitude  \\\n",
       "0  8.3252      41.0  6.984127   1.023810       322.0  2.555556     37.88   \n",
       "1  8.3014      21.0  6.238137   0.971880      2401.0  2.109842     37.86   \n",
       "2  7.2574      52.0  8.288136   1.073446       496.0  2.802260     37.85   \n",
       "3  5.6431      52.0  5.817352   1.073059       558.0  2.547945     37.85   \n",
       "4  3.8462      52.0  6.281853   1.081081       565.0  2.181467     37.85   \n",
       "\n",
       "   Longitude  MedHouseVal  \n",
       "0    -122.23        4.526  \n",
       "1    -122.22        3.585  \n",
       "2    -122.24        3.521  \n",
       "3    -122.25        3.413  \n",
       "4    -122.25        3.422  "
      ]
     },
     "execution_count": 386,
     "metadata": {},
     "output_type": "execute_result"
    }
   ],
   "source": [
    "cal_housing_df = cal_housing.frame.copy()\n",
    "cal_housing_df.head()"
   ]
  },
  {
   "cell_type": "code",
   "execution_count": 387,
   "id": "e1c37323",
   "metadata": {},
   "outputs": [
    {
     "data": {
      "text/html": [
       "<div>\n",
       "<style scoped>\n",
       "    .dataframe tbody tr th:only-of-type {\n",
       "        vertical-align: middle;\n",
       "    }\n",
       "\n",
       "    .dataframe tbody tr th {\n",
       "        vertical-align: top;\n",
       "    }\n",
       "\n",
       "    .dataframe thead th {\n",
       "        text-align: right;\n",
       "    }\n",
       "</style>\n",
       "<table border=\"1\" class=\"dataframe\">\n",
       "  <thead>\n",
       "    <tr style=\"text-align: right;\">\n",
       "      <th></th>\n",
       "      <th>MedInc</th>\n",
       "      <th>HouseAge</th>\n",
       "      <th>AveRooms</th>\n",
       "      <th>AveBedrms</th>\n",
       "      <th>Population</th>\n",
       "      <th>AveOccup</th>\n",
       "      <th>Latitude</th>\n",
       "      <th>Longitude</th>\n",
       "      <th>MedHouseVal</th>\n",
       "    </tr>\n",
       "  </thead>\n",
       "  <tbody>\n",
       "    <tr>\n",
       "      <th>count</th>\n",
       "      <td>20640.000000</td>\n",
       "      <td>20640.000000</td>\n",
       "      <td>20640.000000</td>\n",
       "      <td>20640.000000</td>\n",
       "      <td>20640.000000</td>\n",
       "      <td>20640.000000</td>\n",
       "      <td>20640.000000</td>\n",
       "      <td>20640.000000</td>\n",
       "      <td>20640.000000</td>\n",
       "    </tr>\n",
       "    <tr>\n",
       "      <th>mean</th>\n",
       "      <td>3.870671</td>\n",
       "      <td>28.639486</td>\n",
       "      <td>5.429000</td>\n",
       "      <td>1.096675</td>\n",
       "      <td>1425.476744</td>\n",
       "      <td>3.070655</td>\n",
       "      <td>35.631861</td>\n",
       "      <td>-119.569704</td>\n",
       "      <td>2.068558</td>\n",
       "    </tr>\n",
       "    <tr>\n",
       "      <th>std</th>\n",
       "      <td>1.899822</td>\n",
       "      <td>12.585558</td>\n",
       "      <td>2.474173</td>\n",
       "      <td>0.473911</td>\n",
       "      <td>1132.462122</td>\n",
       "      <td>10.386050</td>\n",
       "      <td>2.135952</td>\n",
       "      <td>2.003532</td>\n",
       "      <td>1.153956</td>\n",
       "    </tr>\n",
       "    <tr>\n",
       "      <th>min</th>\n",
       "      <td>0.499900</td>\n",
       "      <td>1.000000</td>\n",
       "      <td>0.846154</td>\n",
       "      <td>0.333333</td>\n",
       "      <td>3.000000</td>\n",
       "      <td>0.692308</td>\n",
       "      <td>32.540000</td>\n",
       "      <td>-124.350000</td>\n",
       "      <td>0.149990</td>\n",
       "    </tr>\n",
       "    <tr>\n",
       "      <th>25%</th>\n",
       "      <td>2.563400</td>\n",
       "      <td>18.000000</td>\n",
       "      <td>4.440716</td>\n",
       "      <td>1.006079</td>\n",
       "      <td>787.000000</td>\n",
       "      <td>2.429741</td>\n",
       "      <td>33.930000</td>\n",
       "      <td>-121.800000</td>\n",
       "      <td>1.196000</td>\n",
       "    </tr>\n",
       "    <tr>\n",
       "      <th>50%</th>\n",
       "      <td>3.534800</td>\n",
       "      <td>29.000000</td>\n",
       "      <td>5.229129</td>\n",
       "      <td>1.048780</td>\n",
       "      <td>1166.000000</td>\n",
       "      <td>2.818116</td>\n",
       "      <td>34.260000</td>\n",
       "      <td>-118.490000</td>\n",
       "      <td>1.797000</td>\n",
       "    </tr>\n",
       "    <tr>\n",
       "      <th>75%</th>\n",
       "      <td>4.743250</td>\n",
       "      <td>37.000000</td>\n",
       "      <td>6.052381</td>\n",
       "      <td>1.099526</td>\n",
       "      <td>1725.000000</td>\n",
       "      <td>3.282261</td>\n",
       "      <td>37.710000</td>\n",
       "      <td>-118.010000</td>\n",
       "      <td>2.647250</td>\n",
       "    </tr>\n",
       "    <tr>\n",
       "      <th>max</th>\n",
       "      <td>15.000100</td>\n",
       "      <td>52.000000</td>\n",
       "      <td>141.909091</td>\n",
       "      <td>34.066667</td>\n",
       "      <td>35682.000000</td>\n",
       "      <td>1243.333333</td>\n",
       "      <td>41.950000</td>\n",
       "      <td>-114.310000</td>\n",
       "      <td>5.000010</td>\n",
       "    </tr>\n",
       "  </tbody>\n",
       "</table>\n",
       "</div>"
      ],
      "text/plain": [
       "             MedInc      HouseAge      AveRooms     AveBedrms    Population  \\\n",
       "count  20640.000000  20640.000000  20640.000000  20640.000000  20640.000000   \n",
       "mean       3.870671     28.639486      5.429000      1.096675   1425.476744   \n",
       "std        1.899822     12.585558      2.474173      0.473911   1132.462122   \n",
       "min        0.499900      1.000000      0.846154      0.333333      3.000000   \n",
       "25%        2.563400     18.000000      4.440716      1.006079    787.000000   \n",
       "50%        3.534800     29.000000      5.229129      1.048780   1166.000000   \n",
       "75%        4.743250     37.000000      6.052381      1.099526   1725.000000   \n",
       "max       15.000100     52.000000    141.909091     34.066667  35682.000000   \n",
       "\n",
       "           AveOccup      Latitude     Longitude   MedHouseVal  \n",
       "count  20640.000000  20640.000000  20640.000000  20640.000000  \n",
       "mean       3.070655     35.631861   -119.569704      2.068558  \n",
       "std       10.386050      2.135952      2.003532      1.153956  \n",
       "min        0.692308     32.540000   -124.350000      0.149990  \n",
       "25%        2.429741     33.930000   -121.800000      1.196000  \n",
       "50%        2.818116     34.260000   -118.490000      1.797000  \n",
       "75%        3.282261     37.710000   -118.010000      2.647250  \n",
       "max     1243.333333     41.950000   -114.310000      5.000010  "
      ]
     },
     "execution_count": 387,
     "metadata": {},
     "output_type": "execute_result"
    }
   ],
   "source": [
    "cal_housing_df.describe()"
   ]
  },
  {
   "cell_type": "markdown",
   "id": "74d5d8da",
   "metadata": {},
   "source": [
    "## Remove outliers: 10Plus AveRooms"
   ]
  },
  {
   "cell_type": "code",
   "execution_count": 388,
   "id": "0d2c0021",
   "metadata": {},
   "outputs": [],
   "source": [
    "houses_with_10_plus_rooms = cal_housing_df[cal_housing_df.AveRooms > 10 ]"
   ]
  },
  {
   "cell_type": "code",
   "execution_count": 389,
   "id": "ebc49615",
   "metadata": {
    "scrolled": true
   },
   "outputs": [
    {
     "data": {
      "text/html": [
       "<div>\n",
       "<style scoped>\n",
       "    .dataframe tbody tr th:only-of-type {\n",
       "        vertical-align: middle;\n",
       "    }\n",
       "\n",
       "    .dataframe tbody tr th {\n",
       "        vertical-align: top;\n",
       "    }\n",
       "\n",
       "    .dataframe thead th {\n",
       "        text-align: right;\n",
       "    }\n",
       "</style>\n",
       "<table border=\"1\" class=\"dataframe\">\n",
       "  <thead>\n",
       "    <tr style=\"text-align: right;\">\n",
       "      <th></th>\n",
       "      <th>MedInc</th>\n",
       "      <th>HouseAge</th>\n",
       "      <th>AveRooms</th>\n",
       "      <th>AveBedrms</th>\n",
       "      <th>Population</th>\n",
       "      <th>AveOccup</th>\n",
       "      <th>Latitude</th>\n",
       "      <th>Longitude</th>\n",
       "      <th>MedHouseVal</th>\n",
       "    </tr>\n",
       "  </thead>\n",
       "  <tbody>\n",
       "    <tr>\n",
       "      <th>count</th>\n",
       "      <td>226.000000</td>\n",
       "      <td>226.000000</td>\n",
       "      <td>226.000000</td>\n",
       "      <td>226.000000</td>\n",
       "      <td>226.000000</td>\n",
       "      <td>226.000000</td>\n",
       "      <td>226.000000</td>\n",
       "      <td>226.000000</td>\n",
       "      <td>226.000000</td>\n",
       "    </tr>\n",
       "    <tr>\n",
       "      <th>mean</th>\n",
       "      <td>4.175384</td>\n",
       "      <td>18.203540</td>\n",
       "      <td>19.329241</td>\n",
       "      <td>3.852075</td>\n",
       "      <td>590.685841</td>\n",
       "      <td>2.609121</td>\n",
       "      <td>36.760531</td>\n",
       "      <td>-119.072345</td>\n",
       "      <td>1.865744</td>\n",
       "    </tr>\n",
       "    <tr>\n",
       "      <th>std</th>\n",
       "      <td>2.505434</td>\n",
       "      <td>9.802185</td>\n",
       "      <td>15.117295</td>\n",
       "      <td>3.375181</td>\n",
       "      <td>613.668867</td>\n",
       "      <td>1.054432</td>\n",
       "      <td>2.433460</td>\n",
       "      <td>2.008064</td>\n",
       "      <td>1.176683</td>\n",
       "    </tr>\n",
       "    <tr>\n",
       "      <th>min</th>\n",
       "      <td>0.499900</td>\n",
       "      <td>1.000000</td>\n",
       "      <td>10.005874</td>\n",
       "      <td>1.092664</td>\n",
       "      <td>9.000000</td>\n",
       "      <td>0.692308</td>\n",
       "      <td>32.680000</td>\n",
       "      <td>-123.490000</td>\n",
       "      <td>0.149990</td>\n",
       "    </tr>\n",
       "    <tr>\n",
       "      <th>25%</th>\n",
       "      <td>2.739550</td>\n",
       "      <td>12.000000</td>\n",
       "      <td>11.214255</td>\n",
       "      <td>2.180435</td>\n",
       "      <td>189.500000</td>\n",
       "      <td>2.182121</td>\n",
       "      <td>34.240000</td>\n",
       "      <td>-120.267500</td>\n",
       "      <td>1.148500</td>\n",
       "    </tr>\n",
       "    <tr>\n",
       "      <th>50%</th>\n",
       "      <td>3.614600</td>\n",
       "      <td>17.000000</td>\n",
       "      <td>14.723584</td>\n",
       "      <td>2.866894</td>\n",
       "      <td>384.000000</td>\n",
       "      <td>2.486068</td>\n",
       "      <td>37.505000</td>\n",
       "      <td>-119.605000</td>\n",
       "      <td>1.494500</td>\n",
       "    </tr>\n",
       "    <tr>\n",
       "      <th>75%</th>\n",
       "      <td>4.811575</td>\n",
       "      <td>23.000000</td>\n",
       "      <td>21.573043</td>\n",
       "      <td>4.525007</td>\n",
       "      <td>780.000000</td>\n",
       "      <td>2.750631</td>\n",
       "      <td>39.055000</td>\n",
       "      <td>-117.162500</td>\n",
       "      <td>2.186750</td>\n",
       "    </tr>\n",
       "    <tr>\n",
       "      <th>max</th>\n",
       "      <td>15.000100</td>\n",
       "      <td>52.000000</td>\n",
       "      <td>141.909091</td>\n",
       "      <td>34.066667</td>\n",
       "      <td>4176.000000</td>\n",
       "      <td>14.000000</td>\n",
       "      <td>41.500000</td>\n",
       "      <td>-114.310000</td>\n",
       "      <td>5.000010</td>\n",
       "    </tr>\n",
       "  </tbody>\n",
       "</table>\n",
       "</div>"
      ],
      "text/plain": [
       "           MedInc    HouseAge    AveRooms   AveBedrms   Population  \\\n",
       "count  226.000000  226.000000  226.000000  226.000000   226.000000   \n",
       "mean     4.175384   18.203540   19.329241    3.852075   590.685841   \n",
       "std      2.505434    9.802185   15.117295    3.375181   613.668867   \n",
       "min      0.499900    1.000000   10.005874    1.092664     9.000000   \n",
       "25%      2.739550   12.000000   11.214255    2.180435   189.500000   \n",
       "50%      3.614600   17.000000   14.723584    2.866894   384.000000   \n",
       "75%      4.811575   23.000000   21.573043    4.525007   780.000000   \n",
       "max     15.000100   52.000000  141.909091   34.066667  4176.000000   \n",
       "\n",
       "         AveOccup    Latitude   Longitude  MedHouseVal  \n",
       "count  226.000000  226.000000  226.000000   226.000000  \n",
       "mean     2.609121   36.760531 -119.072345     1.865744  \n",
       "std      1.054432    2.433460    2.008064     1.176683  \n",
       "min      0.692308   32.680000 -123.490000     0.149990  \n",
       "25%      2.182121   34.240000 -120.267500     1.148500  \n",
       "50%      2.486068   37.505000 -119.605000     1.494500  \n",
       "75%      2.750631   39.055000 -117.162500     2.186750  \n",
       "max     14.000000   41.500000 -114.310000     5.000010  "
      ]
     },
     "execution_count": 389,
     "metadata": {},
     "output_type": "execute_result"
    }
   ],
   "source": [
    "houses_with_10_plus_rooms.describe()"
   ]
  },
  {
   "cell_type": "code",
   "execution_count": 390,
   "id": "3e2fe7fd",
   "metadata": {},
   "outputs": [],
   "source": [
    "cal_housing_df.drop(houses_with_60_plus_rooms.index, inplace=True)"
   ]
  },
  {
   "cell_type": "markdown",
   "id": "4c4b8fab",
   "metadata": {},
   "source": [
    "## Data analysis"
   ]
  },
  {
   "cell_type": "code",
   "execution_count": 391,
   "id": "5dfd4d31",
   "metadata": {},
   "outputs": [
    {
     "name": "stdout",
     "output_type": "stream",
     "text": [
      "<class 'pandas.core.frame.DataFrame'>\n",
      "Int64Index: 20414 entries, 0 to 20639\n",
      "Data columns (total 9 columns):\n",
      " #   Column       Non-Null Count  Dtype  \n",
      "---  ------       --------------  -----  \n",
      " 0   MedInc       20414 non-null  float64\n",
      " 1   HouseAge     20414 non-null  float64\n",
      " 2   AveRooms     20414 non-null  float64\n",
      " 3   AveBedrms    20414 non-null  float64\n",
      " 4   Population   20414 non-null  float64\n",
      " 5   AveOccup     20414 non-null  float64\n",
      " 6   Latitude     20414 non-null  float64\n",
      " 7   Longitude    20414 non-null  float64\n",
      " 8   MedHouseVal  20414 non-null  float64\n",
      "dtypes: float64(9)\n",
      "memory usage: 1.6 MB\n"
     ]
    }
   ],
   "source": [
    "cal_housing_df.info()"
   ]
  },
  {
   "cell_type": "code",
   "execution_count": 392,
   "id": "763c963d",
   "metadata": {},
   "outputs": [
    {
     "data": {
      "text/plain": [
       "MedInc         0\n",
       "HouseAge       0\n",
       "AveRooms       0\n",
       "AveBedrms      0\n",
       "Population     0\n",
       "AveOccup       0\n",
       "Latitude       0\n",
       "Longitude      0\n",
       "MedHouseVal    0\n",
       "dtype: int64"
      ]
     },
     "execution_count": 392,
     "metadata": {},
     "output_type": "execute_result"
    }
   ],
   "source": [
    "cal_housing_df.isna().sum()"
   ]
  },
  {
   "cell_type": "markdown",
   "id": "d3b20b6b",
   "metadata": {},
   "source": [
    "## Check the basic statistics"
   ]
  },
  {
   "cell_type": "code",
   "execution_count": 393,
   "id": "e9d345b7",
   "metadata": {},
   "outputs": [
    {
     "data": {
      "text/html": [
       "<div>\n",
       "<style scoped>\n",
       "    .dataframe tbody tr th:only-of-type {\n",
       "        vertical-align: middle;\n",
       "    }\n",
       "\n",
       "    .dataframe tbody tr th {\n",
       "        vertical-align: top;\n",
       "    }\n",
       "\n",
       "    .dataframe thead th {\n",
       "        text-align: right;\n",
       "    }\n",
       "</style>\n",
       "<table border=\"1\" class=\"dataframe\">\n",
       "  <thead>\n",
       "    <tr style=\"text-align: right;\">\n",
       "      <th></th>\n",
       "      <th>MedInc</th>\n",
       "      <th>HouseAge</th>\n",
       "      <th>AveRooms</th>\n",
       "      <th>AveBedrms</th>\n",
       "      <th>Population</th>\n",
       "      <th>AveOccup</th>\n",
       "      <th>Latitude</th>\n",
       "      <th>Longitude</th>\n",
       "      <th>MedHouseVal</th>\n",
       "    </tr>\n",
       "  </thead>\n",
       "  <tbody>\n",
       "    <tr>\n",
       "      <th>count</th>\n",
       "      <td>20414.000000</td>\n",
       "      <td>20414.000000</td>\n",
       "      <td>20414.000000</td>\n",
       "      <td>20414.000000</td>\n",
       "      <td>20414.000000</td>\n",
       "      <td>20414.000000</td>\n",
       "      <td>20414.000000</td>\n",
       "      <td>20414.000000</td>\n",
       "      <td>20414.000000</td>\n",
       "    </tr>\n",
       "    <tr>\n",
       "      <th>mean</th>\n",
       "      <td>3.867298</td>\n",
       "      <td>28.755021</td>\n",
       "      <td>5.275112</td>\n",
       "      <td>1.066171</td>\n",
       "      <td>1434.718575</td>\n",
       "      <td>3.075765</td>\n",
       "      <td>35.619366</td>\n",
       "      <td>-119.575211</td>\n",
       "      <td>2.070803</td>\n",
       "    </tr>\n",
       "    <tr>\n",
       "      <th>std</th>\n",
       "      <td>1.891839</td>\n",
       "      <td>12.564702</td>\n",
       "      <td>1.227792</td>\n",
       "      <td>0.128552</td>\n",
       "      <td>1133.453777</td>\n",
       "      <td>10.442684</td>\n",
       "      <td>2.129148</td>\n",
       "      <td>2.002840</td>\n",
       "      <td>1.153532</td>\n",
       "    </tr>\n",
       "    <tr>\n",
       "      <th>min</th>\n",
       "      <td>0.499900</td>\n",
       "      <td>1.000000</td>\n",
       "      <td>0.846154</td>\n",
       "      <td>0.333333</td>\n",
       "      <td>3.000000</td>\n",
       "      <td>0.750000</td>\n",
       "      <td>32.540000</td>\n",
       "      <td>-124.350000</td>\n",
       "      <td>0.149990</td>\n",
       "    </tr>\n",
       "    <tr>\n",
       "      <th>25%</th>\n",
       "      <td>2.562500</td>\n",
       "      <td>18.000000</td>\n",
       "      <td>4.432186</td>\n",
       "      <td>1.005525</td>\n",
       "      <td>795.000000</td>\n",
       "      <td>2.433932</td>\n",
       "      <td>33.930000</td>\n",
       "      <td>-121.800000</td>\n",
       "      <td>1.198000</td>\n",
       "    </tr>\n",
       "    <tr>\n",
       "      <th>50%</th>\n",
       "      <td>3.534100</td>\n",
       "      <td>29.000000</td>\n",
       "      <td>5.213242</td>\n",
       "      <td>1.047851</td>\n",
       "      <td>1173.000000</td>\n",
       "      <td>2.824303</td>\n",
       "      <td>34.250000</td>\n",
       "      <td>-118.490000</td>\n",
       "      <td>1.804000</td>\n",
       "    </tr>\n",
       "    <tr>\n",
       "      <th>75%</th>\n",
       "      <td>4.742600</td>\n",
       "      <td>37.000000</td>\n",
       "      <td>6.016048</td>\n",
       "      <td>1.097294</td>\n",
       "      <td>1731.000000</td>\n",
       "      <td>3.286480</td>\n",
       "      <td>37.710000</td>\n",
       "      <td>-118.010000</td>\n",
       "      <td>2.652000</td>\n",
       "    </tr>\n",
       "    <tr>\n",
       "      <th>max</th>\n",
       "      <td>15.000100</td>\n",
       "      <td>52.000000</td>\n",
       "      <td>10.000000</td>\n",
       "      <td>3.411111</td>\n",
       "      <td>35682.000000</td>\n",
       "      <td>1243.333333</td>\n",
       "      <td>41.950000</td>\n",
       "      <td>-114.550000</td>\n",
       "      <td>5.000010</td>\n",
       "    </tr>\n",
       "  </tbody>\n",
       "</table>\n",
       "</div>"
      ],
      "text/plain": [
       "             MedInc      HouseAge      AveRooms     AveBedrms    Population  \\\n",
       "count  20414.000000  20414.000000  20414.000000  20414.000000  20414.000000   \n",
       "mean       3.867298     28.755021      5.275112      1.066171   1434.718575   \n",
       "std        1.891839     12.564702      1.227792      0.128552   1133.453777   \n",
       "min        0.499900      1.000000      0.846154      0.333333      3.000000   \n",
       "25%        2.562500     18.000000      4.432186      1.005525    795.000000   \n",
       "50%        3.534100     29.000000      5.213242      1.047851   1173.000000   \n",
       "75%        4.742600     37.000000      6.016048      1.097294   1731.000000   \n",
       "max       15.000100     52.000000     10.000000      3.411111  35682.000000   \n",
       "\n",
       "           AveOccup      Latitude     Longitude   MedHouseVal  \n",
       "count  20414.000000  20414.000000  20414.000000  20414.000000  \n",
       "mean       3.075765     35.619366   -119.575211      2.070803  \n",
       "std       10.442684      2.129148      2.002840      1.153532  \n",
       "min        0.750000     32.540000   -124.350000      0.149990  \n",
       "25%        2.433932     33.930000   -121.800000      1.198000  \n",
       "50%        2.824303     34.250000   -118.490000      1.804000  \n",
       "75%        3.286480     37.710000   -118.010000      2.652000  \n",
       "max     1243.333333     41.950000   -114.550000      5.000010  "
      ]
     },
     "execution_count": 393,
     "metadata": {},
     "output_type": "execute_result"
    }
   ],
   "source": [
    "cal_housing_df.describe()"
   ]
  },
  {
   "cell_type": "markdown",
   "id": "422a06f8",
   "metadata": {},
   "source": [
    "## Check corellation"
   ]
  },
  {
   "cell_type": "code",
   "execution_count": 394,
   "id": "a0aa3329",
   "metadata": {},
   "outputs": [
    {
     "data": {
      "image/png": "[encoded data removed]",
      "text/plain": [
       "<Figure size 700x700 with 2 Axes>"
      ]
     },
     "metadata": {},
     "output_type": "display_data"
    }
   ],
   "source": [
    "sns.set_theme()\n",
    "plt.figure(figsize=(7,7))\n",
    "dataplot = sns.heatmap(cal_housing_df.corr(), cmap=\"Blues\", annot=True, fmt='.2f', square=True)\n",
    "plt.show()"
   ]
  },
  {
   "cell_type": "markdown",
   "id": "55b3edb8",
   "metadata": {},
   "source": [
    "## Check distribution of target MedVal"
   ]
  },
  {
   "cell_type": "code",
   "execution_count": 395,
   "id": "f0b69d83",
   "metadata": {},
   "outputs": [
    {
     "data": {
      "image/png": "[encoded data removed]",
      "text/plain": [
       "<Figure size 640x480 with 1 Axes>"
      ]
     },
     "metadata": {},
     "output_type": "display_data"
    }
   ],
   "source": [
    "cal_housing_df.MedHouseVal.hist(bins=60);"
   ]
  },
  {
   "cell_type": "markdown",
   "id": "418026dc",
   "metadata": {},
   "source": [
    "## Normalizing the target variable"
   ]
  },
  {
   "cell_type": "code",
   "execution_count": 396,
   "id": "a80e8b38",
   "metadata": {},
   "outputs": [
    {
     "data": {
      "image/png": "[encoded data removed]",
      "text/plain": [
       "<Figure size 640x480 with 1 Axes>"
      ]
     },
     "metadata": {},
     "output_type": "display_data"
    }
   ],
   "source": [
    "sns.histplot(np.log1p(cal_housing_df.MedHouseVal), bins=200);"
   ]
  },
  {
   "cell_type": "markdown",
   "id": "2232606e",
   "metadata": {},
   "source": [
    "## Randomize"
   ]
  },
  {
   "cell_type": "code",
   "execution_count": 397,
   "id": "21cef758",
   "metadata": {},
   "outputs": [],
   "source": [
    "# randomize dataset to avoid bias\n",
    "idx = np.arange(cal_housing_df.shape[0]) #create list of 0 - n-1\n",
    "\n",
    "np.random.seed(20) # to always get same randomness\n",
    "np.random.shuffle(idx) # shuffle list\n",
    "\n",
    "\n",
    "cal_housing_df = cal_housing_df.iloc[idx]\n",
    "cal_housing_df.reset_index(drop=True, inplace=True)"
   ]
  },
  {
   "cell_type": "code",
   "execution_count": 398,
   "id": "6e4d1e68",
   "metadata": {},
   "outputs": [
    {
     "data": {
      "text/html": [
       "<div>\n",
       "<style scoped>\n",
       "    .dataframe tbody tr th:only-of-type {\n",
       "        vertical-align: middle;\n",
       "    }\n",
       "\n",
       "    .dataframe tbody tr th {\n",
       "        vertical-align: top;\n",
       "    }\n",
       "\n",
       "    .dataframe thead th {\n",
       "        text-align: right;\n",
       "    }\n",
       "</style>\n",
       "<table border=\"1\" class=\"dataframe\">\n",
       "  <thead>\n",
       "    <tr style=\"text-align: right;\">\n",
       "      <th></th>\n",
       "      <th>MedInc</th>\n",
       "      <th>HouseAge</th>\n",
       "      <th>AveRooms</th>\n",
       "      <th>AveBedrms</th>\n",
       "      <th>Population</th>\n",
       "      <th>AveOccup</th>\n",
       "      <th>Latitude</th>\n",
       "      <th>Longitude</th>\n",
       "      <th>MedHouseVal</th>\n",
       "    </tr>\n",
       "  </thead>\n",
       "  <tbody>\n",
       "    <tr>\n",
       "      <th>0</th>\n",
       "      <td>3.0469</td>\n",
       "      <td>20.0</td>\n",
       "      <td>5.656000</td>\n",
       "      <td>1.008000</td>\n",
       "      <td>337.0</td>\n",
       "      <td>2.696000</td>\n",
       "      <td>39.74</td>\n",
       "      <td>-122.16</td>\n",
       "      <td>0.85000</td>\n",
       "    </tr>\n",
       "    <tr>\n",
       "      <th>1</th>\n",
       "      <td>4.5625</td>\n",
       "      <td>33.0</td>\n",
       "      <td>5.867621</td>\n",
       "      <td>1.017889</td>\n",
       "      <td>1583.0</td>\n",
       "      <td>2.831843</td>\n",
       "      <td>37.27</td>\n",
       "      <td>-121.92</td>\n",
       "      <td>2.53500</td>\n",
       "    </tr>\n",
       "    <tr>\n",
       "      <th>2</th>\n",
       "      <td>4.9022</td>\n",
       "      <td>35.0</td>\n",
       "      <td>5.482332</td>\n",
       "      <td>0.948763</td>\n",
       "      <td>1614.0</td>\n",
       "      <td>2.851590</td>\n",
       "      <td>37.99</td>\n",
       "      <td>-122.03</td>\n",
       "      <td>1.69300</td>\n",
       "    </tr>\n",
       "    <tr>\n",
       "      <th>3</th>\n",
       "      <td>7.9614</td>\n",
       "      <td>43.0</td>\n",
       "      <td>5.702517</td>\n",
       "      <td>1.027460</td>\n",
       "      <td>1033.0</td>\n",
       "      <td>2.363844</td>\n",
       "      <td>33.88</td>\n",
       "      <td>-118.41</td>\n",
       "      <td>5.00001</td>\n",
       "    </tr>\n",
       "    <tr>\n",
       "      <th>4</th>\n",
       "      <td>4.1652</td>\n",
       "      <td>4.0</td>\n",
       "      <td>4.032500</td>\n",
       "      <td>1.047500</td>\n",
       "      <td>1666.0</td>\n",
       "      <td>2.082500</td>\n",
       "      <td>33.68</td>\n",
       "      <td>-117.83</td>\n",
       "      <td>1.84500</td>\n",
       "    </tr>\n",
       "  </tbody>\n",
       "</table>\n",
       "</div>"
      ],
      "text/plain": [
       "   MedInc  HouseAge  AveRooms  AveBedrms  Population  AveOccup  Latitude  \\\n",
       "0  3.0469      20.0  5.656000   1.008000       337.0  2.696000     39.74   \n",
       "1  4.5625      33.0  5.867621   1.017889      1583.0  2.831843     37.27   \n",
       "2  4.9022      35.0  5.482332   0.948763      1614.0  2.851590     37.99   \n",
       "3  7.9614      43.0  5.702517   1.027460      1033.0  2.363844     33.88   \n",
       "4  4.1652       4.0  4.032500   1.047500      1666.0  2.082500     33.68   \n",
       "\n",
       "   Longitude  MedHouseVal  \n",
       "0    -122.16      0.85000  \n",
       "1    -121.92      2.53500  \n",
       "2    -122.03      1.69300  \n",
       "3    -118.41      5.00001  \n",
       "4    -117.83      1.84500  "
      ]
     },
     "execution_count": 398,
     "metadata": {},
     "output_type": "execute_result"
    }
   ],
   "source": [
    "cal_housing_df.head()"
   ]
  },
  {
   "cell_type": "markdown",
   "id": "248b939f",
   "metadata": {},
   "source": [
    "## Normalize target variable"
   ]
  },
  {
   "cell_type": "code",
   "execution_count": 399,
   "id": "19d47d87",
   "metadata": {},
   "outputs": [],
   "source": [
    "cal_housing_df[\"MedHouseVal\"] = np.log1p(cal_housing_df.MedHouseVal)"
   ]
  },
  {
   "cell_type": "code",
   "execution_count": 400,
   "id": "72bc5a57",
   "metadata": {},
   "outputs": [
    {
     "data": {
      "text/html": [
       "<div>\n",
       "<style scoped>\n",
       "    .dataframe tbody tr th:only-of-type {\n",
       "        vertical-align: middle;\n",
       "    }\n",
       "\n",
       "    .dataframe tbody tr th {\n",
       "        vertical-align: top;\n",
       "    }\n",
       "\n",
       "    .dataframe thead th {\n",
       "        text-align: right;\n",
       "    }\n",
       "</style>\n",
       "<table border=\"1\" class=\"dataframe\">\n",
       "  <thead>\n",
       "    <tr style=\"text-align: right;\">\n",
       "      <th></th>\n",
       "      <th>MedInc</th>\n",
       "      <th>HouseAge</th>\n",
       "      <th>AveRooms</th>\n",
       "      <th>AveBedrms</th>\n",
       "      <th>Population</th>\n",
       "      <th>AveOccup</th>\n",
       "      <th>Latitude</th>\n",
       "      <th>Longitude</th>\n",
       "      <th>MedHouseVal</th>\n",
       "    </tr>\n",
       "  </thead>\n",
       "  <tbody>\n",
       "    <tr>\n",
       "      <th>0</th>\n",
       "      <td>3.0469</td>\n",
       "      <td>20.0</td>\n",
       "      <td>5.656000</td>\n",
       "      <td>1.008000</td>\n",
       "      <td>337.0</td>\n",
       "      <td>2.696000</td>\n",
       "      <td>39.74</td>\n",
       "      <td>-122.16</td>\n",
       "      <td>0.615186</td>\n",
       "    </tr>\n",
       "    <tr>\n",
       "      <th>1</th>\n",
       "      <td>4.5625</td>\n",
       "      <td>33.0</td>\n",
       "      <td>5.867621</td>\n",
       "      <td>1.017889</td>\n",
       "      <td>1583.0</td>\n",
       "      <td>2.831843</td>\n",
       "      <td>37.27</td>\n",
       "      <td>-121.92</td>\n",
       "      <td>1.262713</td>\n",
       "    </tr>\n",
       "    <tr>\n",
       "      <th>2</th>\n",
       "      <td>4.9022</td>\n",
       "      <td>35.0</td>\n",
       "      <td>5.482332</td>\n",
       "      <td>0.948763</td>\n",
       "      <td>1614.0</td>\n",
       "      <td>2.851590</td>\n",
       "      <td>37.99</td>\n",
       "      <td>-122.03</td>\n",
       "      <td>0.990656</td>\n",
       "    </tr>\n",
       "    <tr>\n",
       "      <th>3</th>\n",
       "      <td>7.9614</td>\n",
       "      <td>43.0</td>\n",
       "      <td>5.702517</td>\n",
       "      <td>1.027460</td>\n",
       "      <td>1033.0</td>\n",
       "      <td>2.363844</td>\n",
       "      <td>33.88</td>\n",
       "      <td>-118.41</td>\n",
       "      <td>1.791761</td>\n",
       "    </tr>\n",
       "    <tr>\n",
       "      <th>4</th>\n",
       "      <td>4.1652</td>\n",
       "      <td>4.0</td>\n",
       "      <td>4.032500</td>\n",
       "      <td>1.047500</td>\n",
       "      <td>1666.0</td>\n",
       "      <td>2.082500</td>\n",
       "      <td>33.68</td>\n",
       "      <td>-117.83</td>\n",
       "      <td>1.045563</td>\n",
       "    </tr>\n",
       "  </tbody>\n",
       "</table>\n",
       "</div>"
      ],
      "text/plain": [
       "   MedInc  HouseAge  AveRooms  AveBedrms  Population  AveOccup  Latitude  \\\n",
       "0  3.0469      20.0  5.656000   1.008000       337.0  2.696000     39.74   \n",
       "1  4.5625      33.0  5.867621   1.017889      1583.0  2.831843     37.27   \n",
       "2  4.9022      35.0  5.482332   0.948763      1614.0  2.851590     37.99   \n",
       "3  7.9614      43.0  5.702517   1.027460      1033.0  2.363844     33.88   \n",
       "4  4.1652       4.0  4.032500   1.047500      1666.0  2.082500     33.68   \n",
       "\n",
       "   Longitude  MedHouseVal  \n",
       "0    -122.16     0.615186  \n",
       "1    -121.92     1.262713  \n",
       "2    -122.03     0.990656  \n",
       "3    -118.41     1.791761  \n",
       "4    -117.83     1.045563  "
      ]
     },
     "execution_count": 400,
     "metadata": {},
     "output_type": "execute_result"
    }
   ],
   "source": [
    "cal_housing_df.head()"
   ]
  },
  {
   "cell_type": "markdown",
   "id": "990cd76b",
   "metadata": {},
   "source": [
    "## Splitting Dataset"
   ]
  },
  {
   "cell_type": "code",
   "execution_count": 401,
   "id": "119a0429",
   "metadata": {},
   "outputs": [],
   "source": [
    "def spilt_dataset(data_df: pd.DataFrame, features: list, target: str):\n",
    "    #data sizes\n",
    "    test_size = int(data_df.shape[0] * 0.2)\n",
    "    val_size = int(data_df.shape[0] * 0.2)\n",
    "    train_size = data_df.shape[0] - test_size - val_size\n",
    "\n",
    "    # test_data\n",
    "    test_data = data_df[:test_size]\n",
    "    X_test = test_data[features].values\n",
    "    y_test = test_data[target].values\n",
    "\n",
    "    #val_data\n",
    "    val_data = data_df[test_size:test_size+train_size]\n",
    "    X_val = val_data[features].values\n",
    "    y_val = val_data[target].values\n",
    "\n",
    "    #training_data\n",
    "    train_data = data_df[test_size+train_size:] \n",
    "    X_train = train_data[features].values\n",
    "    y_train = train_data[target].values\n",
    "\n",
    "    return X_train, y_train, X_val, y_val, X_test, y_test\n",
    "    "
   ]
  },
  {
   "cell_type": "code",
   "execution_count": 402,
   "id": "9b58c1e7",
   "metadata": {},
   "outputs": [],
   "source": [
    "features = ['MedInc', 'HouseAge', 'AveRooms', 'AveBedrms', 'Population', 'AveOccup']\n",
    "target = ['MedHouseVal']"
   ]
  },
  {
   "cell_type": "code",
   "execution_count": 403,
   "id": "7405d646",
   "metadata": {},
   "outputs": [],
   "source": [
    "X_train, y_train, X_val, y_val, X_test, y_test = spilt_dataset(cal_housing_df, features, target)"
   ]
  },
  {
   "cell_type": "code",
   "execution_count": 404,
   "id": "7ccd5f94",
   "metadata": {},
   "outputs": [
    {
     "name": "stdout",
     "output_type": "stream",
     "text": [
      "(20414, 9) 20414\n"
     ]
    }
   ],
   "source": [
    "print(cal_housing_df.shape, (X_test.shape[0] + X_val.shape[0] + X_train.shape[0]))"
   ]
  },
  {
   "cell_type": "markdown",
   "id": "00195be1",
   "metadata": {},
   "source": [
    "## Train the model"
   ]
  },
  {
   "cell_type": "code",
   "execution_count": 405,
   "id": "765184db",
   "metadata": {},
   "outputs": [],
   "source": [
    "def train_linear_reg(X, y, r=0.1):\n",
    "    ones = np.ones(X.shape[0])\n",
    "    X = np.column_stack((ones, X))\n",
    "    XTX = X.T.dot(X)\n",
    "    \n",
    "    XTX = XTX + r * np.eye(XTX.shape[0])\n",
    "    \n",
    "    XTX_inv = np.linalg.inv(XTX)\n",
    "    weights = XTX_inv.dot(X.T).dot(y)\n",
    "\n",
    "    return weights[0], weights[1:]\n",
    "\n",
    "def rmse(y, y_pred):\n",
    "    se = (y-y_pred) ** 2\n",
    "    return np.sqrt(se.mean())"
   ]
  },
  {
   "cell_type": "code",
   "execution_count": 406,
   "id": "031f1afa",
   "metadata": {},
   "outputs": [],
   "source": [
    "def find_best_r():\n",
    "    reg = np.linspace(0,1,50, endpoint=False)\n",
    "    for r in reg:\n",
    "        w0, w = train_linear_reg(X_train, y_train, r=r)\n",
    "        y_pred = w0 + X_val.dot(w)\n",
    "        print(r)\n",
    "        print(rmse(y_val, y_pred))\n",
    "        print(\"-\"*50)"
   ]
  },
  {
   "cell_type": "code",
   "execution_count": 407,
   "id": "1e977685",
   "metadata": {},
   "outputs": [
    {
     "data": {
      "text/plain": [
       "(array([0.4171269]),\n",
       " array([[ 1.74853232e-01],\n",
       "        [ 4.17676589e-03],\n",
       "        [-9.63846096e-02],\n",
       "        [ 3.26818356e-01],\n",
       "        [ 6.15335111e-06],\n",
       "        [ 2.28478893e-04]]))"
      ]
     },
     "execution_count": 407,
     "metadata": {},
     "output_type": "execute_result"
    }
   ],
   "source": [
    "w0, w = train_linear_reg(X_train, y_train, r=0)\n",
    "w0, w"
   ]
  },
  {
   "cell_type": "markdown",
   "id": "463b993f",
   "metadata": {},
   "source": [
    "## Using train data with model"
   ]
  },
  {
   "cell_type": "code",
   "execution_count": 408,
   "id": "9f9e19c3",
   "metadata": {},
   "outputs": [
    {
     "name": "stdout",
     "output_type": "stream",
     "text": [
      "0.24590155725466614\n"
     ]
    },
    {
     "data": {
      "image/png": "[encoded data removed]",
      "text/plain": [
       "<Figure size 640x480 with 1 Axes>"
      ]
     },
     "metadata": {},
     "output_type": "display_data"
    }
   ],
   "source": [
    "y_pred = w0 + X_train.dot(w)\n",
    "\n",
    "plt.hist(y_train, bins=60, color='red', alpha=0.6)\n",
    "plt.hist(y_pred, bins=60, color='blue', alpha=0.6)\n",
    "print(rmse(y_train, y_pred))\n",
    "plt.show()"
   ]
  },
  {
   "cell_type": "markdown",
   "id": "571a6cef",
   "metadata": {},
   "source": [
    "## Use validation data with model"
   ]
  },
  {
   "cell_type": "code",
   "execution_count": 409,
   "id": "0c60f3cc",
   "metadata": {},
   "outputs": [
    {
     "name": "stdout",
     "output_type": "stream",
     "text": [
      "0.24339281146758737\n"
     ]
    },
    {
     "data": {
      "image/png": "[encoded data removed]",
      "text/plain": [
       "<Figure size 640x480 with 1 Axes>"
      ]
     },
     "metadata": {},
     "output_type": "display_data"
    }
   ],
   "source": [
    "## thre outliers to be dealth with\n",
    "y_pred = w0 + X_val.dot(w)\n",
    "plt.hist(y_val, bins=60, color='red', alpha=0.6)\n",
    "plt.hist(y_pred, bins=60, color='blue', alpha=0.6)\n",
    "print(rmse(y_val, y_pred))\n",
    "plt.show()"
   ]
  },
  {
   "cell_type": "markdown",
   "id": "9d32433d",
   "metadata": {},
   "source": [
    "## Retraining model with Train and Val"
   ]
  },
  {
   "cell_type": "code",
   "execution_count": 410,
   "id": "2f4442f1",
   "metadata": {},
   "outputs": [],
   "source": [
    "X_full_train = np.concatenate([X_train, X_val])\n",
    "y_full_train = np.concatenate([y_train, y_val])"
   ]
  },
  {
   "cell_type": "code",
   "execution_count": 411,
   "id": "dc773166",
   "metadata": {},
   "outputs": [
    {
     "data": {
      "text/plain": [
       "(array([0.31085494]),\n",
       " array([[ 1.77616344e-01],\n",
       "        [ 4.46591235e-03],\n",
       "        [-9.47707513e-02],\n",
       "        [ 3.93724740e-01],\n",
       "        [ 1.10381284e-05],\n",
       "        [-1.43346767e-03]]))"
      ]
     },
     "execution_count": 411,
     "metadata": {},
     "output_type": "execute_result"
    }
   ],
   "source": [
    "w0_full, w_full = train_linear_reg(X_full_train, y_full_train, r=0)\n",
    "w0_full, w_full"
   ]
  },
  {
   "cell_type": "code",
   "execution_count": 412,
   "id": "9acb3766",
   "metadata": {},
   "outputs": [
    {
     "name": "stdout",
     "output_type": "stream",
     "text": [
      "0.24117395074200745\n"
     ]
    },
    {
     "data": {
      "image/png": "[encoded data removed]",
      "text/plain": [
       "<Figure size 640x480 with 1 Axes>"
      ]
     },
     "metadata": {},
     "output_type": "display_data"
    }
   ],
   "source": [
    "y_pred = w0_full+X_test.dot(w_full)\n",
    "rmse(y_test, y_pred)\n",
    "\n",
    "plt.hist(y_test, bins=60, color='red', alpha=0.6)\n",
    "plt.hist(y_pred, bins=60, color='blue', alpha=0.6)\n",
    "print(rmse(y_test, y_pred))\n",
    "plt.show()"
   ]
  },
  {
   "cell_type": "markdown",
   "id": "c44c2c67",
   "metadata": {},
   "source": [
    "## Misc -> download location info"
   ]
  },
  {
   "cell_type": "code",
   "execution_count": 413,
   "id": "4bd6fb55",
   "metadata": {},
   "outputs": [],
   "source": [
    "cal_housing_df['lat_long'] = cal_housing_df['Latitude'].astype(str) + ',' + cal_housing_df['Longitude'].astype(str)\n",
    "\n",
    "def get_city(cal_housing_df):\n",
    "    latlong_address = []\n",
    "    \n",
    "    lat_long = cal_housing_df['lat_long'].values\n",
    "    unique_lat_long = list(set(lat_long))\n",
    "    \n",
    "    geolocator = Nominatim(user_agent=\"alabamustapha@gmail.com\")\n",
    "    \n",
    "    for lat_long in unique_lat_long:\n",
    "        print(\"Trying to get: {}\".format(lat_long))\n",
    "        try:\n",
    "            location = geolocator.reverse(value)\n",
    "            \n",
    "            lat_long_details =  {\n",
    "                \"lat_long\": value,\n",
    "                \"house_number\": location.raw[\"address\"].get('house_number', ''), \n",
    "                \"road\": location.raw[\"address\"].get('road', ''),\n",
    "                \"hamlet\": location.raw[\"address\"].get('hamlet', ''),\n",
    "                \"town\": location.raw[\"address\"].get('town', ''),\n",
    "                \"county\": location.raw[\"address\"].get('county', ''),\n",
    "                \"postcode\": location.raw[\"address\"].get('postcode', ''),\n",
    "            }\n",
    "    \n",
    "            latlong_address.append(lat_long_details)\n",
    "            print(lat_long_details)\n",
    "        except:\n",
    "\n",
    "            print(\"Couldn't pull {}\".format(lat_long))\n",
    "\n",
    "        print(len(latlong_address))\n",
    "        time.sleep(3)\n",
    "\n",
    "    latlong_address = get_city(cal_housing_df)\n",
    "    latlong_address_df = pd.DataFrame(latlong_address)\n",
    "    latlong_address_df.to_csv(\"latlong_address.csv\", index=False)\n",
    "\n",
    "    return latlong_address\n",
    "\n"
   ]
  },
  {
   "cell_type": "code",
   "execution_count": null,
   "id": "c61b4a49",
   "metadata": {},
   "outputs": [],
   "source": []
  },
  {
   "cell_type": "code",
   "execution_count": null,
   "id": "a072a4ce",
   "metadata": {},
   "outputs": [],
   "source": []
  }
 ],
 "metadata": {
  "kernelspec": {
   "display_name": "Python 3 (ipykernel)",
   "language": "python",
   "name": "python3"
  },
  "language_info": {
   "codemirror_mode": {
    "name": "ipython",
    "version": 3
   },
   "file_extension": ".py",
   "mimetype": "text/x-python",
   "name": "python",
   "nbconvert_exporter": "python",
   "pygments_lexer": "ipython3",
   "version": "3.9.13"
  }
 },
 "nbformat": 4,
 "nbformat_minor": 5
}
